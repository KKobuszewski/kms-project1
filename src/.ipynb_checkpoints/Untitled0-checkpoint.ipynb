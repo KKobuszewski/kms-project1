{
 "metadata": {
  "name": "",
  "signature": "sha256:a42097d9298dccca8e8854a5d43b27f77f41ca084638950db955ac1d64027617"
 },
 "nbformat": 3,
 "nbformat_minor": 0,
 "worksheets": []
}